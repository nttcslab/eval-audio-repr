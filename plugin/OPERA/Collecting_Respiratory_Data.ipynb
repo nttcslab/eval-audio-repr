{
 "cells": [
  {
   "cell_type": "markdown",
   "id": "15e15769",
   "metadata": {},
   "source": [
    "# Aggregating respiratory sound data\n",
    "\n",
    "This notebook explains how to collect respiratory sound data files from ICBHI 2017, CoughVID, and HF_Lung, and combine them into a single dataset called `Resp` in the paper.\n",
    "\n",
    "**Before you begin:**\n",
    "- Please download the data files according to the OPERA instructions for ICBHI 2017, CoughVID, and HF_Lung in advance.\n",
    "- Set paths `OPERA` and `dest_wav` in the following cell.\n",
    "\n",
    "Then, running all cells will aggregate the files into the `dest_wav` folder ('resp_audio/' by default), which constitutes the `Resp` dataset.\n"
   ]
  },
  {
   "cell_type": "code",
   "execution_count": 3,
   "id": "def039f6",
   "metadata": {},
   "outputs": [],
   "source": [
    "import IPython\n",
    "\n",
    "from IPython import get_ipython\n",
    "ipython = get_ipython()\n",
    "ipython.run_line_magic('reload_ext', 'autoreload')\n",
    "ipython.run_line_magic('autoreload', '2')\n",
    "ipython.run_line_magic('matplotlib', 'inline')\n",
    "\n",
    "import matplotlib.pyplot as plt\n",
    "import numpy as np\n",
    "from pathlib import Path\n",
    "import pandas as pd"
   ]
  },
  {
   "cell_type": "code",
   "execution_count": null,
   "id": "9de3d508",
   "metadata": {},
   "outputs": [],
   "source": [
    "# EDIT ME: YOUR OPERA PATH\n",
    "OPERA = '/your/OPERA'\n",
    "\n",
    "# EDIT ME (OPTION): DESTINATION FOLDER FOR AGGREGATED RESPIRATORY SOUNDS\n",
    "dest_wav = 'resp_audio'\n",
    "\n",
    "# OPERA DATA PATHS -- please download the datasets and place them in the corresponding folders in advance\n",
    "ICBHI2017 = OPERA+'/datasets/icbhi/ICBHI_final_database'\n",
    "COUGHVID = OPERA+'/datasets/coughvid'\n",
    "HF_Lung_V2 = OPERA+'/datasets/hf_lung/HF_Lung_V2'\n"
   ]
  },
  {
   "cell_type": "markdown",
   "id": "993e4de7",
   "metadata": {},
   "source": [
    "## ICBHI 2017"
   ]
  },
  {
   "cell_type": "code",
   "execution_count": null,
   "id": "cd16a939",
   "metadata": {},
   "outputs": [],
   "source": [
    "# Download the metadata CSV file from the ICBHI2017 dataset repository\n",
    "df = pd.read_csv('https://raw.githubusercontent.com/ilyassmoummad/scl_icbhi2017/refs/heads/main/data/ICBHI/metadata.csv')\n",
    "\n",
    "# All we need is training set.\n",
    "df = df[df.split == 'train']\n",
    "print(len(df))  # --> shall be 4142\n",
    "\n",
    "# Copy files to the destination folder\n",
    "import shutil\n",
    "\n",
    "from_folder = Path(ICBHI2017)\n",
    "to_folder = Path(dest_wav)/'ICBHI2017'\n",
    "\n",
    "for f in set(df.filepath.values):\n",
    "    orgfile = from_folder/f\n",
    "    assert orgfile.exists()\n",
    "    tofile = to_folder/f\n",
    "    tofile.parent.mkdir(exist_ok=True, parents=True)\n",
    "    shutil.copy(orgfile, tofile)\n",
    "\n",
    "# Check if the files were copied correctly\n",
    "assert len(set(df.filepath.values)) == len(list(to_folder.rglob('*.wav')))\n",
    "assert len(set(df.filepath.values)) == 539\n",
    "print(f'Copied ICBHI2017 {len(set(df.filepath.values))} files to {to_folder}.')"
   ]
  },
  {
   "cell_type": "markdown",
   "id": "42d95e42",
   "metadata": {},
   "source": [
    "## CoughVID"
   ]
  },
  {
   "cell_type": "code",
   "execution_count": null,
   "id": "8d4b9529",
   "metadata": {},
   "outputs": [],
   "source": [
    "# Download the metadata CSV file from the CoughVID dataset repository\n",
    "df = pd.read_csv('https://raw.githubusercontent.com/evelyn0414/OPERA/refs/heads/main/datasets/coughvid/metadata_compiled.csv')\n",
    "# We need files with cough_detected > 0.95\n",
    "df = df[(df.cough_detected > 0.95)]\n",
    "print(len(df))  # --> shall be 7054\n",
    "\n",
    "# Copy files to the destination folder\n",
    "from_folder = Path(COUGHVID)/'wav'\n",
    "to_folder = Path(dest_wav)/'coughvid/wav'\n",
    "\n",
    "for i, f in enumerate(df.uuid.values):\n",
    "    ## for the exceptional file names with one letter shorter than the uuid\n",
    "    org_f = f\n",
    "    f = f[:-1] if not (from_folder/(f + '.wav')).exists() else f\n",
    "    ## end of exceptional handling\n",
    "    f = f + '.wav'\n",
    "    orgfile = from_folder/f\n",
    "    assert orgfile.exists()\n",
    "    tofile = to_folder/(org_f + '.wav')\n",
    "    tofile.parent.mkdir(exist_ok=True, parents=True)\n",
    "    shutil.copy(orgfile, tofile)\n",
    "\n",
    "# Check if the files were copied correctly\n",
    "assert len(df.uuid.values) == len(list(to_folder.rglob('*.wav'))), f'{len(list(to_folder.rglob(\"*.wav\")))} is not 7054'\n",
    "assert len(df.uuid.values) == 7054\n",
    "print(f'Copied CoughVID {len(df.uuid.values)} files to {to_folder}.')\n",
    "\n"
   ]
  },
  {
   "cell_type": "markdown",
   "id": "7437f1c0",
   "metadata": {},
   "source": [
    "## HF_Lung"
   ]
  },
  {
   "cell_type": "code",
   "execution_count": null,
   "id": "d21c6138",
   "metadata": {},
   "outputs": [],
   "source": [
    "# Make a list of audio files (stethoscopes) in the HF_Lung_V2 dataset\n",
    "files = list(Path(HF_Lung_V2).rglob('steth*.wav'))\n",
    "print(len(files)) # --> shall be 3839\n",
    "\n",
    "# Copy files to the destination folder\n",
    "from_folder = Path(HF_Lung_V2)/'train'\n",
    "to_folder = Path(dest_wav)/'HF_Lung_V2/train'\n",
    "\n",
    "for i, f in enumerate(files):\n",
    "    orgfile = from_folder/f\n",
    "    assert orgfile.exists()\n",
    "    tofile = to_folder/f.name\n",
    "    tofile.parent.mkdir(exist_ok=True, parents=True)\n",
    "    shutil.copy(orgfile, tofile)\n",
    "\n",
    "assert len(files) == len(list(to_folder.rglob('*.wav'))), f'{len(list(to_folder.rglob(\"*.wav\")))} is not 3839'\n",
    "assert len(files) == 3839\n",
    "print(f'Copied HF_Lung_V2 {len(files)} files to {to_folder}.')"
   ]
  },
  {
   "cell_type": "markdown",
   "id": "95e120b7",
   "metadata": {},
   "source": []
  }
 ],
 "metadata": {
  "kernelspec": {
   "display_name": "ar",
   "language": "python",
   "name": "python3"
  },
  "language_info": {
   "codemirror_mode": {
    "name": "ipython",
    "version": 3
   },
   "file_extension": ".py",
   "mimetype": "text/x-python",
   "name": "python",
   "nbconvert_exporter": "python",
   "pygments_lexer": "ipython3",
   "version": "3.9.18"
  }
 },
 "nbformat": 4,
 "nbformat_minor": 5
}
