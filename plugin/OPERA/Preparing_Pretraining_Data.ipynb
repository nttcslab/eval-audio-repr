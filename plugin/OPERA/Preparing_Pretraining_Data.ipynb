{
 "cells": [
  {
   "cell_type": "markdown",
   "id": "15e15769",
   "metadata": {},
   "source": [
    "# Preparing M2D pre-training data\n",
    "\n",
    "This notebook prepares the pre-training data (log-mel specgtrogram (LMS) files and list files) for the M2D pre-training for the ablation study of the paper.\n",
    "\n",
    "### 1. Prepare M2D pre-training on AudioSet.\n",
    "\n",
    "Please make sure you can pre-train an M2D model on AudioSet files. Find the details [here](https://github.com/nttcslab/m2d#3-pre-training-from-scratch).\n",
    "\n",
    "### 2. Aggregate the respiratory sound data beforehand\n",
    "\n",
    "Run the [`Collecting_Respiratory_Data.ipynb`](Collecting_Respiratory_Data.ipynb) to aggregate all the respiratory sound files from ICBHI 2017, CoughVIDE, and HF_Lung into the `resp_wav` folder.\n"
   ]
  },
  {
   "cell_type": "markdown",
   "id": "dbbb425e",
   "metadata": {},
   "source": [
    "\n",
    "### 3. Converting respiratory sound data files into log-mel spectrogram files\n",
    "\n",
    "Finished running [`Collecting_Respiratory_Data.ipynb`](Collecting_Respiratory_Data.ipynb)?\n",
    "\n",
    "If yes, please convert the .wav files into log-mel spectrogram (LMS) files in .npy format as follows.\n",
    "\n",
    "Use [`wav_to_lms.py`](https://github.com/nttcslab/m2d/blob/master/wav_to_lms.py) from your local copy of the M2D repository:\n",
    "\n",
    "```sh\n",
    "    python wav_to_lms.py /your/local/resp_wav /your/m2d/data/resp_lms\n",
    "```\n",
    "\n",
    "What we need is to create LMS files under the `data/resp_lms` folder in your local copy of `m2d`.\n",
    "\n",
    "You will have the following folders, and the files under the folders will be used for pre-training an M2D model.\n",
    "\n",
    "```\n",
    "    /your/m2d/data/resp_lms\n",
    "        coughvid\n",
    "        HF_Lung_V2\n",
    "        ICBHI2017\n",
    "```\n"
   ]
  },
  {
   "cell_type": "code",
   "execution_count": 2,
   "id": "def039f6",
   "metadata": {},
   "outputs": [],
   "source": [
    "import IPython\n",
    "\n",
    "from IPython import get_ipython\n",
    "ipython = get_ipython()\n",
    "ipython.run_line_magic('reload_ext', 'autoreload')\n",
    "ipython.run_line_magic('autoreload', '2')\n",
    "ipython.run_line_magic('matplotlib', 'inline')\n",
    "\n",
    "import matplotlib.pyplot as plt\n",
    "import numpy as np\n",
    "from pathlib import Path\n",
    "import pandas as pd"
   ]
  },
  {
   "cell_type": "markdown",
   "id": "9baabe47",
   "metadata": {},
   "source": [
    "### 4. Configure yours\n",
    "\n",
    "Set `base` the path in the following cell."
   ]
  },
  {
   "cell_type": "code",
   "execution_count": null,
   "id": "cbb8bc33",
   "metadata": {},
   "outputs": [],
   "source": [
    "# EDIT ME: YOUR M2D DATA PATH\n",
    "base = '/your/m2d/data'"
   ]
  },
  {
   "cell_type": "code",
   "execution_count": 4,
   "id": "bdbcaaee",
   "metadata": {},
   "outputs": [
    {
     "data": {
      "text/html": [
       "<div>\n",
       "<style scoped>\n",
       "    .dataframe tbody tr th:only-of-type {\n",
       "        vertical-align: middle;\n",
       "    }\n",
       "\n",
       "    .dataframe tbody tr th {\n",
       "        vertical-align: top;\n",
       "    }\n",
       "\n",
       "    .dataframe thead th {\n",
       "        text-align: right;\n",
       "    }\n",
       "</style>\n",
       "<table border=\"1\" class=\"dataframe\">\n",
       "  <thead>\n",
       "    <tr style=\"text-align: right;\">\n",
       "      <th></th>\n",
       "      <th>file_name</th>\n",
       "    </tr>\n",
       "    <tr>\n",
       "      <th>dataset</th>\n",
       "      <th></th>\n",
       "    </tr>\n",
       "  </thead>\n",
       "  <tbody>\n",
       "    <tr>\n",
       "      <th>HF_Lung_V2</th>\n",
       "      <td>3839</td>\n",
       "    </tr>\n",
       "    <tr>\n",
       "      <th>ICBHI2017</th>\n",
       "      <td>539</td>\n",
       "    </tr>\n",
       "    <tr>\n",
       "      <th>coughvid</th>\n",
       "      <td>7054</td>\n",
       "    </tr>\n",
       "  </tbody>\n",
       "</table>\n",
       "</div>"
      ],
      "text/plain": [
       "            file_name\n",
       "dataset              \n",
       "HF_Lung_V2       3839\n",
       "ICBHI2017         539\n",
       "coughvid         7054"
      ]
     },
     "execution_count": 4,
     "metadata": {},
     "output_type": "execute_result"
    }
   ],
   "source": [
    "# Make the list of files under resp_lms.\n",
    "files = [str(f.relative_to(base)) for f in Path(base).glob('resp_lms/ICBHI2017/**/*.npy')]\n",
    "files += [str(f.relative_to(base)) for f in Path(base).glob('resp_lms/HF_Lung_V2/**/*.npy')]\n",
    "files += [str(f.relative_to(base)) for f in Path(base).glob('resp_lms/coughvid/**/*.npy')]\n",
    "\n",
    "df = pd.DataFrame({'file_name': sorted(files)})\n",
    "df['dataset'] = df.file_name.apply(lambda x: str(x).split('/')[1])\n",
    "df.groupby('dataset').count()"
   ]
  },
  {
   "cell_type": "markdown",
   "id": "19e575f2",
   "metadata": {},
   "source": [
    "### Make the Resp file list"
   ]
  },
  {
   "cell_type": "code",
   "execution_count": 5,
   "id": "599c45ed",
   "metadata": {},
   "outputs": [
    {
     "data": {
      "text/html": [
       "<div>\n",
       "<style scoped>\n",
       "    .dataframe tbody tr th:only-of-type {\n",
       "        vertical-align: middle;\n",
       "    }\n",
       "\n",
       "    .dataframe tbody tr th {\n",
       "        vertical-align: top;\n",
       "    }\n",
       "\n",
       "    .dataframe thead th {\n",
       "        text-align: right;\n",
       "    }\n",
       "</style>\n",
       "<table border=\"1\" class=\"dataframe\">\n",
       "  <thead>\n",
       "    <tr style=\"text-align: right;\">\n",
       "      <th></th>\n",
       "      <th>file_name</th>\n",
       "    </tr>\n",
       "    <tr>\n",
       "      <th>dataset</th>\n",
       "      <th></th>\n",
       "    </tr>\n",
       "  </thead>\n",
       "  <tbody>\n",
       "    <tr>\n",
       "      <th>HF_Lung_V2</th>\n",
       "      <td>3839</td>\n",
       "    </tr>\n",
       "    <tr>\n",
       "      <th>ICBHI2017</th>\n",
       "      <td>3234</td>\n",
       "    </tr>\n",
       "    <tr>\n",
       "      <th>coughvid</th>\n",
       "      <td>7054</td>\n",
       "    </tr>\n",
       "  </tbody>\n",
       "</table>\n",
       "</div>"
      ],
      "text/plain": [
       "            file_name\n",
       "dataset              \n",
       "HF_Lung_V2       3839\n",
       "ICBHI2017        3234\n",
       "coughvid         7054"
      ]
     },
     "execution_count": 5,
     "metadata": {},
     "output_type": "execute_result"
    }
   ],
   "source": [
    "# Oversample ICBHI2017\n",
    "ICBHI2017 = df[df.dataset == 'ICBHI2017']\n",
    "d = pd.concat([df] + [ICBHI2017]*5)\n",
    "d.groupby('dataset').count()"
   ]
  },
  {
   "cell_type": "markdown",
   "id": "d9fc83c5",
   "metadata": {},
   "source": [
    "### Load the AudioSet file list\n",
    "\n",
    "We assume that the `files_audioset.csv` file lists the .npy files of AudioSet, and it contains about 2 million files."
   ]
  },
  {
   "cell_type": "code",
   "execution_count": 6,
   "id": "b722f1ce",
   "metadata": {},
   "outputs": [
    {
     "data": {
      "text/plain": [
       "2005132"
      ]
     },
     "execution_count": 6,
     "metadata": {},
     "output_type": "execute_result"
    }
   ],
   "source": [
    "# Load AudioSet data list\n",
    "asdf = pd.read_csv(base + '/files_audioset.csv')\n",
    "len(asdf)  # --> about 2 million files; 2005132 for example of ours."
   ]
  },
  {
   "cell_type": "markdown",
   "id": "4cc44f01",
   "metadata": {},
   "source": [
    "## Create the list: Resp only"
   ]
  },
  {
   "cell_type": "code",
   "execution_count": 7,
   "id": "a3bfffc2",
   "metadata": {},
   "outputs": [
    {
     "name": "stdout",
     "output_type": "stream",
     "text": [
      "AudioSet: 0 Resp 100K: 14127\n"
     ]
    }
   ],
   "source": [
    "total = d[['file_name']]\n",
    "total.to_csv(base + '/files_R_F_M_1.csv', index=None)\n",
    "print('AudioSet:', sum(total.file_name.str.startswith('audioset_lms')), 'Resp 100K:', sum(total.file_name.str.startswith('resp_lms')))"
   ]
  },
  {
   "cell_type": "markdown",
   "id": "993e4de7",
   "metadata": {},
   "source": [
    "## Create the lists: AS + Resp 100K to 500K"
   ]
  },
  {
   "cell_type": "code",
   "execution_count": 8,
   "id": "cd16a939",
   "metadata": {},
   "outputs": [
    {
     "name": "stdout",
     "output_type": "stream",
     "text": [
      "AudioSet: 2005132 Resp 100K: 98889\n",
      "AudioSet: 2005132 Resp 200K: 211905\n",
      "AudioSet: 2005132 Resp 300K: 310794\n",
      "AudioSet: 2005132 Resp 400K: 409683\n",
      "AudioSet: 2005132 Resp 500K: 508572\n"
     ]
    }
   ],
   "source": [
    "total = pd.concat([asdf] + [d[['file_name']]] * 7)\n",
    "total.to_csv(base + '/files_A_S_R_F_M_1.csv', index=None)\n",
    "print('AudioSet:', sum(total.file_name.str.startswith('audioset_lms')), 'Resp 100K:', sum(total.file_name.str.startswith('resp_lms')))\n",
    "\n",
    "total = pd.concat([asdf] + [d[['file_name']]] * 15)\n",
    "total.to_csv(base + '/files_A_S_R_F_M_2.csv', index=None)\n",
    "print('AudioSet:', sum(total.file_name.str.startswith('audioset_lms')), 'Resp 200K:', sum(total.file_name.str.startswith('resp_lms')))\n",
    "\n",
    "total = pd.concat([asdf] + [d[['file_name']]] * 22)\n",
    "total.to_csv(base + '/files_A_S_R_F_M_3.csv', index=None)\n",
    "print('AudioSet:', sum(total.file_name.str.startswith('audioset_lms')), 'Resp 300K:', sum(total.file_name.str.startswith('resp_lms')))\n",
    "\n",
    "total = pd.concat([asdf] + [d[['file_name']]] * 29)\n",
    "total.to_csv(base + '/files_A_S_R_F_M_4.csv', index=None)\n",
    "print('AudioSet:', sum(total.file_name.str.startswith('audioset_lms')), 'Resp 400K:', sum(total.file_name.str.startswith('resp_lms')))\n",
    "\n",
    "total = pd.concat([asdf] + [d[['file_name']]] * 36)\n",
    "total.to_csv(base + '/files_A_S_R_F_M_5.csv', index=None)\n",
    "print('AudioSet:', sum(total.file_name.str.startswith('audioset_lms')), 'Resp 500K:', sum(total.file_name.str.startswith('resp_lms')))\n"
   ]
  },
  {
   "cell_type": "code",
   "execution_count": null,
   "id": "15390f0e",
   "metadata": {},
   "outputs": [],
   "source": []
  }
 ],
 "metadata": {
  "kernelspec": {
   "display_name": "ar",
   "language": "python",
   "name": "python3"
  },
  "language_info": {
   "codemirror_mode": {
    "name": "ipython",
    "version": 3
   },
   "file_extension": ".py",
   "mimetype": "text/x-python",
   "name": "python",
   "nbconvert_exporter": "python",
   "pygments_lexer": "ipython3",
   "version": "3.9.18"
  }
 },
 "nbformat": 4,
 "nbformat_minor": 5
}
